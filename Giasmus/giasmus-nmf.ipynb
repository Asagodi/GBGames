{
 "cells": [
  {
   "cell_type": "code",
   "execution_count": 1,
   "metadata": {
    "collapsed": true
   },
   "outputs": [],
   "source": [
    "import csv\n",
    "from datetime import datetime\n",
    "import giasmus\n",
    "from lxml import html\n",
    "import numpy as np\n",
    "import re\n",
    "import requests\n",
    "from sklearn.decomposition import NMF\n",
    "\n",
    "np.set_printoptions(precision=2)"
   ]
  },
  {
   "cell_type": "markdown",
   "metadata": {},
   "source": [
    "# 1. Try non-negative matrix factorization for chiasmus determination"
   ]
  },
  {
   "cell_type": "markdown",
   "metadata": {},
   "source": [
    "## Background\n",
    "\"**Non-negative matrix factorization** (**NMF** or **NNMF**), also **non-negative matrix approximation** is a group of algorithms in multivariate analysis and linear algebra where a matrix V is factorized into (usually) two matrices W and H, with the property that all three matrices have no negative elements. [...] NMF can be used for text mining applications. In this process, a document-term matrix is constructed with the weights of various terms (typically weighted word frequency information) from a set of documents. This matrix is factored into a term-feature and a feature-document matrix. The features are derived from the contents of the documents, and the feature-document matrix describes data clusters of related documents.\" (Source: [Wikipedia: NMF](https://en.wikipedia.org/wiki/Non-negative_matrix_factorization?oldformat=true))"
   ]
  },
  {
   "cell_type": "code",
   "execution_count": 2,
   "metadata": {},
   "outputs": [
    {
     "name": "stdout",
     "output_type": "stream",
     "text": [
      "[[7 5 4 5 5 5 6 4 6 7]\n",
      " [3 4 3 4 6 6 4 3 4 3]\n",
      " [3 6 2 4 6 6 4 2 6 4]\n",
      " [4 3 3 3 3 3 3 3 3 4]\n",
      " [6 6 4 6 7 7 6 5 7 6]\n",
      " [7 3 4 4 4 4 4 4 3 7]\n",
      " [6 5 4 6 5 5 6 4 5 6]\n",
      " [4 5 5 8 5 5 8 5 5 5]\n",
      " [4 7 2 2 6 6 3 2 7 4]\n",
      " [4 3 5 7 7 7 7 5 3 5]\n",
      " [6 5 6 3 5 5 3 6 6 6]\n",
      " [3 7 7 1 7 7 1 7 7 3]\n",
      " [5 3 8 7 4 4 7 8 3 5]\n",
      " [4 6 6 3 6 6 3 6 6 4]\n",
      " [7 6 3 3 5 5 3 3 6 7]\n",
      " [5 6 2 4 4 4 4 2 6 5]\n",
      " [7 4 5 5 6 6 5 5 4 7]\n",
      " [5 7 3 3 4 4 3 3 7 5]\n",
      " [7 5 5 5 7 7 5 5 5 7]\n",
      " [4 6 4 5 4 4 5 4 6 4]]\n",
      "(20, 10)\n"
     ]
    }
   ],
   "source": [
    "# Define data\n",
    "C = np.random.binomial(10,0.5,[20,5])\n",
    "c = np.random.binomial(1,0.1,[20,5]) # added to C to slightly perturb the latter half of the chiasmus\n",
    "C = np.concatenate((C,np.fliplr(C)+c),axis=1)\n",
    "print(C)\n",
    "print(np.shape(C))"
   ]
  },
  {
   "cell_type": "code",
   "execution_count": 3,
   "metadata": {
    "collapsed": true
   },
   "outputs": [],
   "source": [
    "# Define non-negative matrix factorization (NMF) model\n",
    "model = NMF(n_components=5, init='random', random_state=0)"
   ]
  },
  {
   "cell_type": "code",
   "execution_count": 4,
   "metadata": {
    "collapsed": true
   },
   "outputs": [],
   "source": [
    "# Perform the NMF\n",
    "W = model.fit_transform(C)\n",
    "H = model.components_"
   ]
  },
  {
   "cell_type": "code",
   "execution_count": 5,
   "metadata": {},
   "outputs": [
    {
     "name": "stdout",
     "output_type": "stream",
     "text": [
      "Max(H):\n",
      " [2 4 2 3 4 4 3 2 4 2] \n",
      "\n"
     ]
    }
   ],
   "source": [
    "# Identify the coupled features\n",
    "MH = np.argmax(H, axis=0)\n",
    "print('Max(H):\\n', MH, '\\n')"
   ]
  },
  {
   "cell_type": "code",
   "execution_count": 6,
   "metadata": {},
   "outputs": [
    {
     "name": "stdout",
     "output_type": "stream",
     "text": [
      "Giasmus? True\n"
     ]
    }
   ],
   "source": [
    "# Check if the coupled features form a chiasmus\n",
    "print('Giasmus?', giasmus.check_giasmus(MH.tolist()))"
   ]
  },
  {
   "cell_type": "markdown",
   "metadata": {},
   "source": [
    "# 2. Try the above technique on text data"
   ]
  },
  {
   "cell_type": "code",
   "execution_count": 7,
   "metadata": {
    "collapsed": true
   },
   "outputs": [],
   "source": [
    "string1 = \"This is a test string. It's not very interesting, since it's just a test string.\"\n",
    "string2 = \"This is another test string, but this one is very interesting.\"\n",
    "string1c = \"This is a another test string. It's not very interesting, since it's just another test string.\"\n",
    "string2c = \"This is yet another test string, but this one is also very interesting.\"\n",
    "# print('# times test occurs:\\t', string1.count('test'))\n",
    "# print('# times string occurs:\\t', string1.count('string'))"
   ]
  },
  {
   "cell_type": "code",
   "execution_count": 8,
   "metadata": {},
   "outputs": [
    {
     "name": "stdout",
     "output_type": "stream",
     "text": [
      "{'just', 'another', 'but', 'very', 'a', 'string', 'also', \"it's\", 'interesting', 'test', 'is', 'since', 'this', 'not', 'yet', 'one'}\n"
     ]
    }
   ],
   "source": [
    "string_list = re.findall(r\"[\\w']+\", (string1+string1c+string2+string2c).lower())\n",
    "string_set = set(string_list)\n",
    "print(string_set)"
   ]
  },
  {
   "cell_type": "code",
   "execution_count": 9,
   "metadata": {},
   "outputs": [
    {
     "name": "stdout",
     "output_type": "stream",
     "text": [
      "A1: [ 1.  0.  0.  1.  2.  2.  0.  1.  1.  2.  2.  1.  0.  1.  0.  0.]\n",
      "A2: [ 1.  2.  0.  1.  3.  2.  0.  1.  1.  2.  2.  1.  0.  3.  0.  0.]\n",
      "B1: [ 0.  1.  1.  1.  1.  1.  0.  0.  1.  1.  4.  0.  1.  1.  0.  1.]\n",
      "B2: [ 0.  1.  1.  1.  2.  1.  1.  0.  1.  1.  4.  0.  1.  1.  1.  1.]\n"
     ]
    }
   ],
   "source": [
    "A1 = np.zeros(len(string_set))\n",
    "A2 = np.zeros(len(string_set))\n",
    "B1 = np.zeros(len(string_set))\n",
    "B2 = np.zeros(len(string_set))\n",
    "for i, word in enumerate(string_set):\n",
    "    A1[i] = string1.count(word)\n",
    "    A2[i] = string1c.count(word)\n",
    "    B1[i] = string2.count(word)\n",
    "    B2[i] = string2c.count(word)\n",
    "print('A1:', A1)\n",
    "print('A2:', A2)\n",
    "print('B1:', B1)\n",
    "print('B2:', B2)"
   ]
  },
  {
   "cell_type": "code",
   "execution_count": 10,
   "metadata": {},
   "outputs": [
    {
     "name": "stdout",
     "output_type": "stream",
     "text": [
      "(16, 4)\n"
     ]
    }
   ],
   "source": [
    "# Prepare the data\n",
    "# print(np.expand_dims(np.asarray(A1), axis=1))\n",
    "C_text = np.concatenate((np.expand_dims(np.asarray(A1), axis=1), np.expand_dims(np.asarray(B1), axis=1),\\\n",
    "                     np.expand_dims(np.asarray(B2), axis=1), np.expand_dims(np.asarray(A2), axis=1)), axis=1)\n",
    "print(C_text.shape)"
   ]
  },
  {
   "cell_type": "code",
   "execution_count": 11,
   "metadata": {
    "collapsed": true
   },
   "outputs": [],
   "source": [
    "# Define non-negative matrix factorization (NMF) model\n",
    "model_text = NMF(n_components=2, init='random', random_state=0)"
   ]
  },
  {
   "cell_type": "code",
   "execution_count": 12,
   "metadata": {
    "collapsed": true
   },
   "outputs": [],
   "source": [
    "# Perform the NMF\n",
    "W_text = model_text.fit_transform(C_text)\n",
    "H_text = model_text.components_"
   ]
  },
  {
   "cell_type": "code",
   "execution_count": 13,
   "metadata": {},
   "outputs": [
    {
     "name": "stdout",
     "output_type": "stream",
     "text": [
      "Max(H):\n",
      " [0 1 1 0] \n",
      "\n"
     ]
    }
   ],
   "source": [
    "# Identify the coupled features\n",
    "MH_text = np.argmax(H_text, axis=0)\n",
    "print('Max(H):\\n', MH_text, '\\n')"
   ]
  },
  {
   "cell_type": "code",
   "execution_count": 14,
   "metadata": {},
   "outputs": [
    {
     "name": "stdout",
     "output_type": "stream",
     "text": [
      "Giasmus? True\n"
     ]
    }
   ],
   "source": [
    "# Check if the coupled features form a chiasmus\n",
    "print('Giasmus?', giasmus.check_giasmus(MH_text.tolist()))"
   ]
  },
  {
   "cell_type": "markdown",
   "metadata": {},
   "source": [
    "# 3. Try to detect the chiastic structure in the Dutch National Anthem"
   ]
  },
  {
   "cell_type": "markdown",
   "metadata": {},
   "source": [
    "## Background\n",
    "\"The Wilhelmus, the national anthem of the Netherlands, has a structure composed around a thematic chiasmus: the 15 stanzas of the text are symmetrical, in that verses one and 15 resemble one another in meaning, as do verses two and 14, three and 13, etc., until they converge in the eighth verse, the heart of the song.\" (Source: [Wikipedia: Thematic Chiasmus](https://en.wikipedia.org/wiki/Chiasmus?oldformat=true#Thematic_chiasmus))"
   ]
  },
  {
   "cell_type": "code",
   "execution_count": 15,
   "metadata": {
    "collapsed": true
   },
   "outputs": [],
   "source": [
    "# Get the data\n",
    "page = requests.get('https://www.koninklijkhuis.nl/onderwerpen/volkslied/tekst-van-het-wilhelmus')\n",
    "tree = html.fromstring(page.content)"
   ]
  },
  {
   "cell_type": "code",
   "execution_count": 16,
   "metadata": {},
   "outputs": [
    {
     "name": "stdout",
     "output_type": "stream",
     "text": [
      "{\"vrezen'\", 'dienaar', 'nu', 'konings', 'tirannie', \"vermeten'\", 'ook', \"leven'\", 'begeven', 'ende', 'betracht', 'hoogsten', 'hebben', \"opgezeten'\", 'te', 'god', 'aan', 'gebracht', 'wil', 'bij', 'al', \"namen'\", 'tempeest', 'nacht', 'geweest', 'redden', 'gemoed', \"getrouwe'\", 'daaraan', 'gij', 'luid', 'getrouwen', 'rijks', \"wassen'\", 'bloed', 'vaderland', 'o', \"zuchten'\", 'zoet', 'van', 'hierboven', 'christen', 'blijf', 'moeten', 'gedenke', 'gerechtigheid', 'altijd', 'dien', 'onversaagd', 'duitsen', 'stam', 'goed', 'had', \"'t\", 'een', 'adolf', 'vroom', 'verheven', 'ruiters', 'handen', 'zwaar', 'heeft', 'der', 'broeders', \"gebeden'\", 'maastricht', \"nassouwe'\", 'vrees', 'loven', 'zaak', 'ontvangen', 'bidt', 'geern', 'geven', 'die', 'slag', 'hij', 'mijner', 'zonder', 'oprecht', 'moed', 'prinse', 'david', 'edelman', 'dat', \"betrouwen'\", 'regeert', 'oorlof', \"vluchten'\", 'groten', \"'\", 'ziel', 'nimmermeer', 'meer', 'tegenspoed', 'slapen', \"obediëren'\", 'christenman', 'moedig', 'prinselijk', 'godes', 'onschuld', 'aard', 'dood', 'willen', 'heer', 'blijven', 'genen', 'tijd', 'alle', 'op', 'zal', 'standvastig', 'grond', \"bewaren'\", 'eeuwig', 'haren', 'moet', 'hier', 'dag', 'heere', 'zo', 'kond', 'geweld', 'ben', 'jongsten', 'tiran', 'tot', 'niet', 'daarom', 'uw', 'heb', 'landen', 'bloedt', 'bezwaard', 'edel', 'lijdt', 'zag', 'vorstelijk', 'prins', 'gedaan', 'majesteit', 'ere', 'heireskracht', 'zij', 'verlaat', 'mijnen', 'keizerlijken', 'christlijk', \"verwerven'\", 'lijf', 'voor', 'dit', 'macht', 'zuur', 'dan', \"belijden'\", \"wederkeren'\", 'geëerd', 'stond', \"gedreven'\", 'uit', 'welk', 'schild', \"heren'\", 'neerland', 'zijt', 'verdreven', 'bouwen', 'verschoond', 'des', 'verkoren', 'doorwondt', 'maken', \"verrassen'\", 'onschuldig', 'woord', 'harten', 'veld', 'kracht', 'hart', 'mijnes', 'ik', 'onverveerd', \"'wilhelmus\", 'mij', \"regeren'\", \"tezamen'\", \"gebleven'\", \"erbarmen'\", 'israël', 'en', 'na', 'in', 'doet', \"wederspoed'\", 'gewaagd', 'verstrooid', 'vrome', 'hooggeboren', 'mijn', 'neemt', 'vrij', 'de', 'begraven', \"tijden'\", \"verlangen'\", 'verlost', 'groot', 'krenken', \"keren'\", 'doch', 'herder', 'regiment', 'hun', 'rijk', 'vervolgers', 'maar', 'menig', 'alder', 'ding', \"onderzaten'\", \"oranje'\", 'graaf', 'moeste', 'daar', 'arme', 'held', 'verwacht', \"gegeven'\", 'ziet', 'om', 'friesland', 'trouwen', 'vertoond', 'haast', 'met', 'instrument', 'bevreesde', 'land', 'begeert', 'bozen', \"sterven'\", \"verdrijven'\", \"verarmen'\", 'vorst', 'koning', 'verlaten', 'hoog', 'het', 'sauel', \"draven'\", 'begeerd', 'zeer', 'als', 'nood', 'den', 'geprezen', 'dijn', 'spanjaards', \"hispanje'\", 'zijn', \"t'aller\", 'leven', \"bezwaren'\", \"schapen'\", 'mag', 'wilt', 'veracht', 'heilzaam', 'koninkrijk', 'is', 'men', 'zijner', 'helpen', 'hem', 'was', 'u'}\n"
     ]
    }
   ],
   "source": [
    "raw = np.asarray(tree.xpath('//p/text()')[5:139])\n",
    "string_list = re.findall(r\"[\\w']+\", str(raw).lower())\n",
    "string_set = set(string_list)\n",
    "print(string_set)"
   ]
  },
  {
   "cell_type": "code",
   "execution_count": 17,
   "metadata": {},
   "outputs": [
    {
     "name": "stdout",
     "output_type": "stream",
     "text": [
      "verse 1 \n",
      " ['wilhelmus van nassouwe' ' ben ik, van duitsen bloed,'\n",
      " ' den vaderland getrouwe' ' blijf ik tot in den dood.'\n",
      " ' een prinse van oranje' ' ben ik, vrij, onverveerd,'\n",
      " ' den koning van hispanje' ' heb ik altijd geëerd.']\n",
      "verse 2 \n",
      " [' in godes vrees te leven' ' heb ik altijd betracht,'\n",
      " ' daarom ben ik verdreven,' ' om land, om luid gebracht.'\n",
      " ' maar god zal mij regeren' ' als een goed instrument,'\n",
      " ' dat ik zal wederkeren' ' in mijnen regiment.']\n",
      "verse 3 \n",
      " [' lijdt u, mijn onderzaten' ' die oprecht zijt van aard,'\n",
      " ' god zal u niet verlaten,' ' al zijt gij nu bezwaard.'\n",
      " ' die vroom begeert te leven,' ' bidt god nacht ende dag,'\n",
      " ' dat hij mij kracht zal geven,' ' dat ik u helpen mag.']\n",
      "verse 4 \n",
      " [' lijf ende goed tezamen' ' heb ik u niet verschoond,'\n",
      " ' mijn broeders, hoog van namen' \" hebben 't u ook vertoond\"\n",
      " ' graaf adolf is gebleven' ' in friesland in den slag,'\n",
      " \" zijn ziel in 't eeuwig leven\" ' verwacht den jongsten dag.']\n",
      "verse 5 \n",
      " [' edel en hooggeboren,' ' van keizerlijken stam,'\n",
      " ' een vorst des rijks verkoren,' ' als een vroom christenman,'\n",
      " ' voor godes woord geprezen,' ' heb ik, vrij onversaagd,'\n",
      " ' als een held zonder vrezen' ' mijn edel bloed gewaagd.']\n",
      "verse 6 \n",
      " [' mijn schild ende betrouwen' ' zijt gij, o god mijn heer,'\n",
      " ' op u zo wil ik bouwen,' ' verlaat mij nimmermeer.'\n",
      " ' dat ik doch vroom mag blijven,' \" uw dienaar t'aller stond,\"\n",
      " ' de tirannie verdrijven' ' die mij mijn hart doorwondt.']\n",
      "verse 7 \n",
      " [' van al die mij bezwaren' ' en mijn vervolgers zijn,'\n",
      " ' mijn god, wil doch bewaren' ' den trouwen dienaar dijn,'\n",
      " ' dat zij mij niet verrassen' ' in haren bozen moed,'\n",
      " ' hun handen niet en wassen' ' in mijn onschuldig bloed.']\n",
      "verse 8 \n",
      " [' als david moeste vluchten' ' voor sauel den tiran,'\n",
      " ' zo heb ik moeten zuchten' ' als menig edelman.'\n",
      " ' maar god heeft hem verheven,' ' verlost uit alder nood,'\n",
      " ' een koninkrijk gegeven' ' in israël zeer groot.']\n",
      "verse 9 \n",
      " [\" na 't zuur zal ik ontvangen\" ' van god, mijn heer, het zoet,'\n",
      " ' daar na zo doet verlangen' ' mijn vorstelijk gemoed:'\n",
      " ' welk is, dat ik mag sterven' ' met ere in het veld,'\n",
      " ' een eeuwig rijk verwerven' ' als een getrouwen held.']\n",
      "verse 10 \n",
      " [' niet doet mij meer erbarmen' ' in mijnen wederspoed'\n",
      " ' dan dat men ziet verarmen' ' des konings landen goed.'\n",
      " ' dat u de spanjaards krenken,' ' o edel neerland zoet,'\n",
      " ' als ik daaraan gedenke,' ' mijn edel hart dat bloedt.']\n",
      "verse 11 \n",
      " [' als een prins opgezeten' ' met mijner heireskracht,'\n",
      " ' van den tiran vermeten' ' heb ik den slag verwacht,'\n",
      " ' die, bij maastricht begraven,' ' bevreesde mijn geweld;'\n",
      " ' mijn ruiters zag men draven' ' zeer moedig in dat veld.']\n",
      "verse 12 \n",
      " [' zo het den wil des heren' ' op dien tijd had geweest,'\n",
      " ' had ik geern willen keren' ' van u dit zwaar tempeest.'\n",
      " ' maar de heer van hierboven,' ' die alle ding regeert,'\n",
      " ' die men altijd moet loven,' ' en heeft het niet begeerd.']\n",
      "verse 13 \n",
      " [' zeer christlijk was gedreven' ' mijn prinselijk gemoed,'\n",
      " ' standvastig is gebleven' ' mijn hart in tegenspoed.'\n",
      " ' den heer heb ik gebeden' ' uit mijnes harten grond,'\n",
      " ' dat hij mijn zaak wil redden,' ' mijn onschuld maken kond.']\n",
      "verse 14 \n",
      " [' oorlof mijn arme schapen' ' die zijt in groten nood,'\n",
      " ' uw herder zal niet slapen,' ' al zijt gij nu verstrooid.'\n",
      " ' tot god wilt u begeven,' ' zijn heilzaam woord neemt aan,'\n",
      " ' als vrome christen leven,' \" 't zal hier haast zijn gedaan.\"]\n",
      "verse 15 \n",
      " [' voor god wil ik belijden' ' en zijner groten macht,'\n",
      " ' dat ik tot genen tijden' ' den koning heb veracht,'\n",
      " ' dan dat ik god den heere,' ' der hoogsten majesteit,'\n",
      " ' heb moeten obediëren' ' in den gerechtigheid.']\n"
     ]
    }
   ],
   "source": [
    "# Separate the anthem into the 15 verses\n",
    "anthem = np.zeros(shape=(len(string_set),15))\n",
    "verse_borders = [-1] + np.ndarray.tolist(np.where(raw == \" \")[0]) + [139]\n",
    "for i in range(15):\n",
    "    temp = str(raw[verse_borders[i]+1:verse_borders[i+1]]).lower()\n",
    "    print('verse',i+1,'\\n',temp)\n",
    "    for j, word in enumerate(string_set):\n",
    "        anthem[j,i] = temp.count(word)"
   ]
  },
  {
   "cell_type": "code",
   "execution_count": 18,
   "metadata": {
    "collapsed": true
   },
   "outputs": [],
   "source": [
    "# Define non-negative matrix factorization (NMF) model\n",
    "model = NMF(n_components=15, init='random', random_state=0)"
   ]
  },
  {
   "cell_type": "code",
   "execution_count": 19,
   "metadata": {
    "collapsed": true
   },
   "outputs": [],
   "source": [
    "# Perform the NMF\n",
    "W_text = model_text.fit_transform(anthem)\n",
    "H_text = model_text.components_"
   ]
  },
  {
   "cell_type": "code",
   "execution_count": 20,
   "metadata": {},
   "outputs": [
    {
     "name": "stdout",
     "output_type": "stream",
     "text": [
      "Number of features found: 2\n",
      "Text structure: [1 0 1 1 1 1 0 1 1 0 0 0 0 1 1]\n"
     ]
    }
   ],
   "source": [
    "# Identify the coupled segments\n",
    "MH_text = np.argmax(H_text, axis=0)\n",
    "print('Number of features found:', len(H_text))\n",
    "print('Text structure:', MH_text)"
   ]
  },
  {
   "cell_type": "code",
   "execution_count": 21,
   "metadata": {},
   "outputs": [
    {
     "name": "stdout",
     "output_type": "stream",
     "text": [
      "Giasmus? False\n"
     ]
    }
   ],
   "source": [
    "# Check if the coupled features form a chiasmus\n",
    "print('Giasmus?', giasmus.check_giasmus(MH_text.tolist()))"
   ]
  },
  {
   "cell_type": "markdown",
   "metadata": {},
   "source": [
    "## Conclusion\n",
    "While the current **NMF**-based technique may be succesfully applied to determine the chiastic structure of a text where the corresponding sections have similar word frequencies, as seen in **(2)**, the current technique appears to be less succesfull in the detection of a thematic chiasmus, as seen in **(3)**, where the similarities in word frequencies between corresponding sections may be reduced. Thus, the latter task would require a form of topic modelling, which may be solved using a more specialized **NMF**-based method (Arora _et al._, 2012)."
   ]
  },
  {
   "cell_type": "markdown",
   "metadata": {},
   "source": [
    "# References"
   ]
  },
  {
   "cell_type": "markdown",
   "metadata": {},
   "source": [
    "Arora, S., Ge, R., & Moitra, A. (2012, October). Learning topic models--going beyond SVD. In Foundations of Computer Science (FOCS), 2012 IEEE 53rd Annual Symposium on (pp. 1-10). IEEE."
   ]
  }
 ],
 "metadata": {
  "kernelspec": {
   "display_name": "Python 3",
   "language": "python",
   "name": "python3"
  },
  "language_info": {
   "codemirror_mode": {
    "name": "ipython",
    "version": 3
   },
   "file_extension": ".py",
   "mimetype": "text/x-python",
   "name": "python",
   "nbconvert_exporter": "python",
   "pygments_lexer": "ipython3",
   "version": "3.6.2"
  }
 },
 "nbformat": 4,
 "nbformat_minor": 2
}
